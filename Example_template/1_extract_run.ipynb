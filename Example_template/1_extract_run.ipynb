{
 "cells": [
  {
   "cell_type": "code",
   "execution_count": 1,
   "metadata": {},
   "outputs": [],
   "source": [
    "import sys\n",
    "import subprocess\n",
    "import os \n",
    "\n",
    "import glob\n",
    "import multiprocessing"
   ]
  },
  {
   "cell_type": "code",
   "execution_count": null,
   "metadata": {},
   "outputs": [],
   "source": [
    "sys.path.append('../../')\n",
    "from extract_glycan_info import parse_gf_result"
   ]
  },
  {
   "cell_type": "code",
   "execution_count": null,
   "metadata": {},
   "outputs": [],
   "source": [
    "phi_dihedral=['C2','C1','O2','C2']\n",
    "psi_dihedral=['C1','O2','C2','C3']\n",
    "\n",
    "di_sugar=['GLC', 'GLC']\n",
    "patterns1= ['GLC(*_*_)]-GLC(*_*_)', 'GLC(*_*_)-GLC(*_*_)','GLC(*_*_)]-[*]-GLC(*_*_)', 'GLC(*_*_)-[*]-GLC(*_*_)']\n",
    "patterns2= ['DGlcpa1-2DGlcpa', 'DGlcpa1-2]DGlcpa', 'DGlcpa1-2[*]DGlcpa']\n",
    "patterns=(patterns1,patterns2)\n",
    "\n",
    "gf_result ='../../data_gf_query/a1-2D_GF_results.csv'\n",
    "\n",
    "chimerax_path= '/bin/chimerax'\n",
    "bfmp_path = '/home/rajan/apps/BFMP/detect_shape'\n",
    "\n",
    "\n",
    "instant1 = parse_gf_result(gf_result, phi_dihedral, psi_dihedral, di_sugar, patterns, chimerax_path, bfmp_path)\n",
    "instant1.read_gf_file()\n",
    "instant1.dnl_pdbs()\n",
    "instant1.create_pdb_glycan_dict() \n",
    "instant1.glycan_count()\n",
    "instant1.select_pdbs()"
   ]
  },
  {
   "cell_type": "code",
   "execution_count": 4,
   "metadata": {},
   "outputs": [],
   "source": [
    "%%capture output\n",
    "instant1.generate_chimerax_script_to_compute_dihedral()"
   ]
  },
  {
   "cell_type": "code",
   "execution_count": 5,
   "metadata": {},
   "outputs": [],
   "source": [
    "# Write the entire output to a file\n",
    "with open('calc_dihedral2.cxc', 'w') as f:\n",
    "    f.write(output.stdout)"
   ]
  },
  {
   "cell_type": "code",
   "execution_count": null,
   "metadata": {},
   "outputs": [],
   "source": [
    "# Use the custom split function\n",
    "instant1.custom_split_chimerax_script('calc_dihedral2.cxc', 'calc_dihedral_part_')"
   ]
  },
  {
   "cell_type": "code",
   "execution_count": null,
   "metadata": {},
   "outputs": [],
   "source": [
    "# Run the parallel execution and stitching\n",
    "instant1.run_chimerax_script_parallel('./calc_dihedral_chimerax/calc_dihedral_part_*.cxc')"
   ]
  },
  {
   "cell_type": "code",
   "execution_count": 8,
   "metadata": {},
   "outputs": [],
   "source": [
    "# instant1.run_chimerax_script('calc_dihedral2.cxc', 'calc_dihedral2.out')"
   ]
  },
  {
   "cell_type": "code",
   "execution_count": null,
   "metadata": {},
   "outputs": [],
   "source": [
    "# torsions = instant1.clean_up_chimerax_output('calc_dihedral2.out')\n",
    "torsions = instant1.clean_up_chimerax_output('combined_chimerax_output.out')\n",
    "torsions.to_csv('chimerax_output.csv', index=False)"
   ]
  },
  {
   "cell_type": "code",
   "execution_count": 10,
   "metadata": {},
   "outputs": [],
   "source": [
    "instant1.calc_BFactor()"
   ]
  },
  {
   "cell_type": "code",
   "execution_count": null,
   "metadata": {},
   "outputs": [],
   "source": [
    "instant1.find_bfmp_ring_shape()"
   ]
  },
  {
   "cell_type": "code",
   "execution_count": null,
   "metadata": {},
   "outputs": [],
   "source": [
    "output_df = instant1.match_glycan_tree()"
   ]
  },
  {
   "cell_type": "code",
   "execution_count": 13,
   "metadata": {},
   "outputs": [],
   "source": [
    "output_df.to_csv('DGlcpa1-2DGlcpa_ver2.1.csv',sep=',',index=False, columns=['pdb','glycam name','glycan','phi site','psi site','phi','psi','B factor(Avg)','BFMP ring shape'])\n",
    "output_df.to_csv('DGlcpa1-2DGlcpa_ver3.csv',sep=',',index=False, columns=['pdb','phi site','psi site','phi','psi','B factor(Avg)','BFMP ring shape'])"
   ]
  },
  {
   "cell_type": "code",
   "execution_count": 14,
   "metadata": {},
   "outputs": [],
   "source": [
    "################################\n",
    "# print(instant1.pdbs)\n",
    "# print(instant1.pdb_glycan_dict)"
   ]
  },
  {
   "cell_type": "code",
   "execution_count": null,
   "metadata": {},
   "outputs": [],
   "source": [
    "print(instant1.torsions)"
   ]
  },
  {
   "cell_type": "code",
   "execution_count": 15,
   "metadata": {},
   "outputs": [],
   "source": [
    "instant1.plot(torsions=instant1.torsions, title='DGlcpa1-2DGlcpa',max_histogram_scale=100,step_histogram_tick=20)"
   ]
  },
  {
   "cell_type": "code",
   "execution_count": null,
   "metadata": {},
   "outputs": [],
   "source": []
  }
 ],
 "metadata": {
  "kernelspec": {
   "display_name": "Python 3",
   "language": "python",
   "name": "python3"
  },
  "language_info": {
   "codemirror_mode": {
    "name": "ipython",
    "version": 3
   },
   "file_extension": ".py",
   "mimetype": "text/x-python",
   "name": "python",
   "nbconvert_exporter": "python",
   "pygments_lexer": "ipython3",
   "version": "3.9.12"
  }
 },
 "nbformat": 4,
 "nbformat_minor": 2
}
