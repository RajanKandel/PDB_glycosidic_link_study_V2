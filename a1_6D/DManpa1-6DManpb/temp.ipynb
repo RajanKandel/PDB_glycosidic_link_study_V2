{
 "cells": [
  {
   "cell_type": "code",
   "execution_count": 1,
   "metadata": {},
   "outputs": [],
   "source": [
    "\n"
   ]
  },
  {
   "cell_type": "code",
   "execution_count": 8,
   "metadata": {},
   "outputs": [
    {
     "name": "stdout",
     "output_type": "stream",
     "text": [
      "File: ./calc_dihedral_chimerax/calc_dihedral_part_84.out\n"
     ]
    }
   ],
   "source": [
    "import os\n",
    "\n",
    "def check_last_line(filename):\n",
    "    try:\n",
    "        with open(filename, 'r') as file:\n",
    "            lines = file.readlines()\n",
    "            if lines:\n",
    "                last_line = lines[-1].strip()\n",
    "                if last_line != 'Exiting ...':\n",
    "                    print(f\"File: {filename}\")\n",
    "            else:\n",
    "                print(f\"File: {filename} (empty file)\")\n",
    "    except FileNotFoundError:\n",
    "        print(f\"File not found: {filename}\")\n",
    "    except IOError:\n",
    "        print(f\"Error reading file: {filename}\")\n",
    "\n",
    "# Directory containing the .out files\n",
    "directory = './calc_dihedral_chimerax'\n",
    "\n",
    "# Loop through all .out files in the directory\n",
    "for file in os.listdir(directory):\n",
    "    if file.endswith('.out'):\n",
    "        full_path = os.path.join(directory, file)\n",
    "        check_last_line(full_path)"
   ]
  },
  {
   "cell_type": "code",
   "execution_count": null,
   "metadata": {},
   "outputs": [],
   "source": []
  }
 ],
 "metadata": {
  "kernelspec": {
   "display_name": "Python 3",
   "language": "python",
   "name": "python3"
  },
  "language_info": {
   "codemirror_mode": {
    "name": "ipython",
    "version": 3
   },
   "file_extension": ".py",
   "mimetype": "text/x-python",
   "name": "python",
   "nbconvert_exporter": "python",
   "pygments_lexer": "ipython3",
   "version": "3.9.12"
  }
 },
 "nbformat": 4,
 "nbformat_minor": 2
}
